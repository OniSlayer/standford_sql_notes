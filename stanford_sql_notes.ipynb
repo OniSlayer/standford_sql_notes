{
 "cells": [
  {
   "cell_type": "markdown",
   "metadata": {},
   "source": [
    "# Stanford SQL Course\n",
    "\n",
    "This are personal notes about the SQL course offered by Stanford Lagunita.\n",
    "\n",
    "The url of the course is https://lagunita.stanford.edu/courses/DB/SQL/SelfPaced/course/"
   ]
  },
  {
   "cell_type": "code",
   "execution_count": 2,
   "metadata": {},
   "outputs": [
    {
     "name": "stdout",
     "output_type": "stream",
     "text": [
      "colleges.db  readme.md\tstanford_sql_notes.Rmd\tstanford_sql_notes.ipynb\r\n"
     ]
    }
   ],
   "source": [
    "# Showing content of repo\n",
    "!ls"
   ]
  },
  {
   "cell_type": "code",
   "execution_count": 3,
   "metadata": {},
   "outputs": [],
   "source": [
    "# Importing neccessary libraries\n",
    "import sqlite3\n",
    "import pandas as pd"
   ]
  },
  {
   "cell_type": "code",
   "execution_count": 6,
   "metadata": {},
   "outputs": [],
   "source": [
    "# Writting helper functions\n",
    "\n",
    "db = 'colleges.db'\n",
    "\n",
    "def run_query(q):\n",
    "    with sqlite3.connect(db) as conn:\n",
    "        return pd.read_sql(q, conn)\n",
    "\n",
    "def run_command(c):\n",
    "    with sqlite3.connect(db) as conn:\n",
    "        conn.isolation_level = None\n",
    "        conn.execute(c)\n",
    "\n",
    "def show_tables():\n",
    "    return run_query('''\n",
    "    select *\n",
    "    from sqlite_master\n",
    "    where type in ('table', 'view')\n",
    "    ''')\n"
   ]
  },
  {
   "cell_type": "code",
   "execution_count": 8,
   "metadata": {},
   "outputs": [
    {
     "data": {
      "text/html": [
       "<div>\n",
       "<style scoped>\n",
       "    .dataframe tbody tr th:only-of-type {\n",
       "        vertical-align: middle;\n",
       "    }\n",
       "\n",
       "    .dataframe tbody tr th {\n",
       "        vertical-align: top;\n",
       "    }\n",
       "\n",
       "    .dataframe thead th {\n",
       "        text-align: right;\n",
       "    }\n",
       "</style>\n",
       "<table border=\"1\" class=\"dataframe\">\n",
       "  <thead>\n",
       "    <tr style=\"text-align: right;\">\n",
       "      <th></th>\n",
       "      <th>type</th>\n",
       "      <th>name</th>\n",
       "      <th>tbl_name</th>\n",
       "      <th>rootpage</th>\n",
       "      <th>sql</th>\n",
       "    </tr>\n",
       "  </thead>\n",
       "  <tbody>\n",
       "    <tr>\n",
       "      <th>0</th>\n",
       "      <td>table</td>\n",
       "      <td>College</td>\n",
       "      <td>College</td>\n",
       "      <td>2</td>\n",
       "      <td>CREATE TABLE College(cName text, state text, e...</td>\n",
       "    </tr>\n",
       "    <tr>\n",
       "      <th>1</th>\n",
       "      <td>table</td>\n",
       "      <td>Student</td>\n",
       "      <td>Student</td>\n",
       "      <td>3</td>\n",
       "      <td>CREATE TABLE Student(sID int, sName text, GPA ...</td>\n",
       "    </tr>\n",
       "    <tr>\n",
       "      <th>2</th>\n",
       "      <td>table</td>\n",
       "      <td>Apply</td>\n",
       "      <td>Apply</td>\n",
       "      <td>4</td>\n",
       "      <td>CREATE TABLE Apply(sID int, cName text, major ...</td>\n",
       "    </tr>\n",
       "  </tbody>\n",
       "</table>\n",
       "</div>"
      ],
      "text/plain": [
       "    type     name tbl_name  rootpage  \\\n",
       "0  table  College  College         2   \n",
       "1  table  Student  Student         3   \n",
       "2  table    Apply    Apply         4   \n",
       "\n",
       "                                                 sql  \n",
       "0  CREATE TABLE College(cName text, state text, e...  \n",
       "1  CREATE TABLE Student(sID int, sName text, GPA ...  \n",
       "2  CREATE TABLE Apply(sID int, cName text, major ...  "
      ]
     },
     "execution_count": 8,
     "metadata": {},
     "output_type": "execute_result"
    }
   ],
   "source": [
    "# Showing tables\n",
    "show_tables()"
   ]
  },
  {
   "cell_type": "code",
   "execution_count": 5,
   "metadata": {},
   "outputs": [
    {
     "data": {
      "text/html": [
       "<div>\n",
       "<style scoped>\n",
       "    .dataframe tbody tr th:only-of-type {\n",
       "        vertical-align: middle;\n",
       "    }\n",
       "\n",
       "    .dataframe tbody tr th {\n",
       "        vertical-align: top;\n",
       "    }\n",
       "\n",
       "    .dataframe thead th {\n",
       "        text-align: right;\n",
       "    }\n",
       "</style>\n",
       "<table border=\"1\" class=\"dataframe\">\n",
       "  <thead>\n",
       "    <tr style=\"text-align: right;\">\n",
       "      <th></th>\n",
       "      <th>type</th>\n",
       "      <th>name</th>\n",
       "      <th>tbl_name</th>\n",
       "      <th>rootpage</th>\n",
       "      <th>sql</th>\n",
       "    </tr>\n",
       "  </thead>\n",
       "  <tbody>\n",
       "    <tr>\n",
       "      <th>0</th>\n",
       "      <td>table</td>\n",
       "      <td>College</td>\n",
       "      <td>College</td>\n",
       "      <td>2</td>\n",
       "      <td>CREATE TABLE College(cName text, state text, e...</td>\n",
       "    </tr>\n",
       "    <tr>\n",
       "      <th>1</th>\n",
       "      <td>table</td>\n",
       "      <td>Student</td>\n",
       "      <td>Student</td>\n",
       "      <td>3</td>\n",
       "      <td>CREATE TABLE Student(sID int, sName text, GPA ...</td>\n",
       "    </tr>\n",
       "    <tr>\n",
       "      <th>2</th>\n",
       "      <td>table</td>\n",
       "      <td>Apply</td>\n",
       "      <td>Apply</td>\n",
       "      <td>4</td>\n",
       "      <td>CREATE TABLE Apply(sID int, cName text, major ...</td>\n",
       "    </tr>\n",
       "  </tbody>\n",
       "</table>\n",
       "</div>"
      ],
      "text/plain": [
       "    type     name tbl_name  rootpage  \\\n",
       "0  table  College  College         2   \n",
       "1  table  Student  Student         3   \n",
       "2  table    Apply    Apply         4   \n",
       "\n",
       "                                                 sql  \n",
       "0  CREATE TABLE College(cName text, state text, e...  \n",
       "1  CREATE TABLE Student(sID int, sName text, GPA ...  \n",
       "2  CREATE TABLE Apply(sID int, cName text, major ...  "
      ]
     },
     "execution_count": 5,
     "metadata": {},
     "output_type": "execute_result"
    }
   ],
   "source": [
    "# Displaying necessary tables\n",
    "pd.read_sql_query('''\n",
    "select * from sqlite_master where type in ('table', 'view')\n",
    "''', conn)"
   ]
  },
  {
   "cell_type": "markdown",
   "metadata": {},
   "source": [
    "## Basic Select Statements"
   ]
  },
  {
   "cell_type": "code",
   "execution_count": null,
   "metadata": {},
   "outputs": [],
   "source": [
    "import "
   ]
  }
 ],
 "metadata": {
  "kernelspec": {
   "display_name": "Python 3",
   "language": "python",
   "name": "python3"
  },
  "language_info": {
   "codemirror_mode": {
    "name": "ipython",
    "version": 3
   },
   "file_extension": ".py",
   "mimetype": "text/x-python",
   "name": "python",
   "nbconvert_exporter": "python",
   "pygments_lexer": "ipython3",
   "version": "3.7.3"
  }
 },
 "nbformat": 4,
 "nbformat_minor": 2
}
